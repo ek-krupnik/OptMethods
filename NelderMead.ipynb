{
 "cells": [
  {
   "cell_type": "code",
   "execution_count": 9,
   "metadata": {},
   "outputs": [],
   "source": [
    "from math import *\n",
    "import numpy as np"
   ]
  },
  {
   "cell_type": "code",
   "execution_count": 16,
   "metadata": {},
   "outputs": [],
   "source": [
    "def func(point):\n",
    "    x, y = point\n",
    "    return sin(y) * e**(1 - cos(x))**2 + cos(x) * e**(1 - sin(y))**2 + (x - y)**2"
   ]
  },
  {
   "cell_type": "code",
   "execution_count": 52,
   "metadata": {},
   "outputs": [],
   "source": [
    "def NelderMead(worst_point, middle_point, best_point, alpha=1, beta=0.5, gamma=2, iter_num=12):\n",
    "    for i in range(iter_num):\n",
    "        worst_val = func(worst_point)\n",
    "        middle_val = func(middle_point)\n",
    "        best_val = func(best_point)\n",
    "        \n",
    "        sorted_points = sorted([(worst_val, worst_point), (middle_val, middle_point), (best_val, best_point)], key=lambda x : x[0])\n",
    "    \n",
    "        best = sorted_points[0][1]\n",
    "        middle = sorted_points[1][1]\n",
    "        worst = sorted_points[2][1]\n",
    "        \n",
    "        mid = (middle + best) / 2\n",
    "\n",
    "        reflection_point = mid + alpha * (mid - worst)\n",
    "        if func(reflection_point) < func(middle):\n",
    "            worst = reflection_point\n",
    "        else:\n",
    "            if func(reflection_point) < func(worst):\n",
    "                worst = reflection_point\n",
    "                \n",
    "            mid2 = (worst + mid) / 2\n",
    "            if func(mid2) < func(worst):\n",
    "                worst = mid2\n",
    "    \n",
    "        if func(reflection_point) < func(best):\n",
    "            expansion_point = mid + gamma * (reflection_point - mid)\n",
    "            worst = (expansion_point if func(expansion_point) < func(reflection_point) else reflection_point)\n",
    "                \n",
    "        if func(reflection_point) > func(middle):\n",
    "            contraction_point = mid + beta * (worst - mid)\n",
    "            if func(contraction_point) < func(worst):\n",
    "                worst = contraction_point\n",
    "\n",
    "        worst_point = worst\n",
    "        middle_point = middle\n",
    "        best_point = best\n",
    "        \n",
    "    return best_point"
   ]
  },
  {
   "cell_type": "markdown",
   "metadata": {},
   "source": [
    "Запустив функцию для различных начальных точек получаем совершенно разные значения, а значит метод сходится к разным точкам в зависимости от начальных значений"
   ]
  },
  {
   "cell_type": "code",
   "execution_count": 56,
   "metadata": {},
   "outputs": [
    {
     "name": "stdout",
     "output_type": "stream",
     "text": [
      "NelderMead((3, 4), (7, 5), (6, 6))  = [3.1546128  4.70054584]\n",
      "NelderMead((1, 3), (2, 5), (10, 7)) = [0.93603516 0.63769531]\n"
     ]
    }
   ],
   "source": [
    "print(\"NelderMead((3, 4), (7, 5), (6, 6))  =\", NelderMead(np.array([3, 4]), np.array([7, 5]), np.array([6, 6])))\n",
    "print(\"NelderMead((1, 3), (2, 5), (10, 7)) =\", NelderMead(np.array([1, 2]), np.array([2, 2]), np.array([3, 1])))"
   ]
  },
  {
   "cell_type": "markdown",
   "metadata": {},
   "source": [
    "Изменим все три гиперпараметра и убедимся, что метод сойдётся к разным значениям"
   ]
  },
  {
   "cell_type": "code",
   "execution_count": 70,
   "metadata": {},
   "outputs": [
    {
     "name": "stdout",
     "output_type": "stream",
     "text": [
      "NelderMead((3, 4), (7, 5), (6, 6))  = [1.24209949 1.37089505]\n",
      "NelderMead((3, 4), (7, 5), (6, 6))  = [1.22615284 0.92419528]\n"
     ]
    }
   ],
   "source": [
    "print(\"NelderMead((3, 4), (7, 5), (6, 6))  =\", NelderMead(np.array([1, 2]), np.array([2, 2]), np.array([3, 1]), alpha=0.8, beta=0.4, gamma=1.8))\n",
    "print(\"NelderMead((3, 4), (7, 5), (6, 6))  =\", NelderMead(np.array([1, 2]), np.array([2, 2]), np.array([3, 1]), alpha=1.2, beta=0.6, gamma=2.2))"
   ]
  }
 ],
 "metadata": {
  "kernelspec": {
   "display_name": "Python 3",
   "language": "python",
   "name": "python3"
  },
  "language_info": {
   "codemirror_mode": {
    "name": "ipython",
    "version": 3
   },
   "file_extension": ".py",
   "mimetype": "text/x-python",
   "name": "python",
   "nbconvert_exporter": "python",
   "pygments_lexer": "ipython3",
   "version": "3.8.5"
  }
 },
 "nbformat": 4,
 "nbformat_minor": 4
}
